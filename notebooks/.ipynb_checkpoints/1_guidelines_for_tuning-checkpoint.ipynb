{
 "cells": [
  {
   "cell_type": "code",
   "execution_count": 3,
   "id": "78a948d1-f91c-413d-8e71-3e5d0b5e2a5f",
   "metadata": {},
   "outputs": [],
   "source": [
    "import openai\n",
    "import os\n",
    "\n",
    "from dotenv import load_dotenv, find_dotenv\n",
    "_ = load_dotenv(find_dotenv()) # read local .env file\n",
    "\n",
    "openai.api_key  = os.getenv('OPENAI_API_KEY')"
   ]
  },
  {
   "cell_type": "code",
   "execution_count": 4,
   "id": "601818c5-013f-4b80-8657-4bce8e505b89",
   "metadata": {},
   "outputs": [],
   "source": [
    "def get_completion(prompt, model=\"gpt-3.5-turbo\"):\n",
    "    messages = [{\"role\": \"user\", \"content\": prompt}]\n",
    "    response = openai.ChatCompletion.create(\n",
    "        model=model,\n",
    "        messages=messages,\n",
    "        temperature=0, # this is the degree of randomness of the model's output\n",
    "    )\n",
    "    return response.choices[0].message[\"content\"]"
   ]
  },
  {
   "cell_type": "code",
   "execution_count": 5,
   "id": "6acd62f1-f820-478a-9c73-8a8b16feb700",
   "metadata": {},
   "outputs": [
    {
     "name": "stdout",
     "output_type": "stream",
     "text": [
      "It is important to provide clear and specific instructions to guide a model towards the desired output and reduce the chances of receiving irrelevant or incorrect responses, even if it means writing a longer prompt for more clarity and context.\n"
     ]
    }
   ],
   "source": [
    "text = f\"\"\"\n",
    "You should express what you want a model to do by \\\n",
    "providing instructions that are as clear and \\\n",
    "specific as you can possibly make them. \\\n",
    "This will guide the model towards the desired output, \\\n",
    "and reduce the chances of receiving irrelevant \\\n",
    "or incorrect responses. Don't confuse writing a \\\n",
    "clear prompt with writing a short prompt.\\\n",
    "In many cases, longer prompts provide more clarity \\\n",
    "and context for the model, which can lead to \\\n",
    "more detailed and relevant outputs.\n",
    "\"\"\"\n",
    "\n",
    "prompt = f\"\"\"\n",
    "Summarize the text delimited by triple backticks \\\n",
    "into a single sentence.\n",
    "```{text}```\n",
    "\"\"\"\n",
    "\n",
    "response = get_completion(prompt)\n",
    "print(response)"
   ]
  },
  {
   "cell_type": "raw",
   "id": "7fa12898-d9f4-4833-8d07-34b3cef83e48",
   "metadata": {},
   "source": [
    "#principle 1\n",
    "Write clear and specific instructions\n",
    "Tactic 1: Use delimiters\n",
    "Triple quotes: \"\"'\n",
    "Triple backticks:' Triple dashes: - - -\n",
    "Angle brackets: < >,\n",
    "XML tags: ‹tag» </tag>\n",
    "\n"
   ]
  },
  {
   "cell_type": "raw",
   "id": "df5c2d4c-a3d2-4d02-a788-64c36d79b8fc",
   "metadata": {},
   "source": [
    "Tactic2: ask for structured output\n"
   ]
  },
  {
   "cell_type": "code",
   "execution_count": 5,
   "id": "542614c4-dfe3-4e86-bcc9-2b6fa3fe7c74",
   "metadata": {},
   "outputs": [
    {
     "name": "stdout",
     "output_type": "stream",
     "text": [
      "[\n",
      "    {\n",
      "        \"book_id\": 1,\n",
      "        \"title\": \"The Midnight Garden\",\n",
      "        \"author\": \"Elena Rivers\",\n",
      "        \"genre\": \"Fantasy\"\n",
      "    },\n",
      "    {\n",
      "        \"book_id\": 2,\n",
      "        \"title\": \"Echoes of the Past\",\n",
      "        \"author\": \"Nathan Black\",\n",
      "        \"genre\": \"Mystery\"\n",
      "    },\n",
      "    {\n",
      "        \"book_id\": 3,\n",
      "        \"title\": \"Whispers in the Wind\",\n",
      "        \"author\": \"Samantha Reed\",\n",
      "        \"genre\": \"Romance\"\n",
      "    }\n",
      "]\n"
     ]
    }
   ],
   "source": [
    "prompt = f\"\"\"\n",
    "Generate a list of three made-up book titles along \\\n",
    "with their authors and genres. \n",
    "Provide them in JSON format with the following keys:\n",
    "book_id, title, author, genre\n",
    "\"\"\"\n",
    "response = get_completion(prompt)\n",
    "print(response)"
   ]
  },
  {
   "cell_type": "raw",
   "id": "ba316923-f067-4cc0-b81e-f3996fb7580c",
   "metadata": {},
   "source": [
    "Tactic 3: check whether conditions are satisfied, \n",
    "check assumptions required to do the task"
   ]
  },
  {
   "cell_type": "code",
   "execution_count": 6,
   "id": "3eaa7d38-84bb-4ec3-b200-666bb843e730",
   "metadata": {},
   "outputs": [],
   "source": [
    "text_1 = f\"\"\"\n",
    "Making a cup of tea is easy! First, you need to get some \\\n",
    "water boiling. While that's happening, \\\n",
    "grab a cup and put a tea bag in it. Once the water is \\\n",
    "hot enough, just pour it over the tea bag. \\\n",
    "Let it sit for a bit so the tea can steep. After a \\\n",
    "few minutes, take out the tea bag. If you \\\n",
    "like, you can add some sugar or milk to taste. \\\n",
    "And that's it! You've got yourself a delicious \\\n",
    "cup of tea to enjoy.\n",
    "\"\"\""
   ]
  },
  {
   "cell_type": "code",
   "execution_count": 7,
   "id": "d9d42780-f96e-41aa-9848-b62c1f102672",
   "metadata": {},
   "outputs": [
    {
     "name": "stdout",
     "output_type": "stream",
     "text": [
      "completion for Text1.\n",
      "Step 1 - Get some water boiling.\n",
      "Step 2 - Grab a cup and put a tea bag in it.\n",
      "Step 3 - Pour the hot water over the tea bag.\n",
      "Step 4 - Let the tea steep for a few minutes.\n",
      "Step 5 - Remove the tea bag.\n",
      "Step 6 - Add sugar or milk to taste.\n",
      "Step 7 - Enjoy your delicious cup of tea.\n"
     ]
    }
   ],
   "source": [
    "prompt = f\"\"\"\n",
    "You will be provided with a text delimited by triple quotes. \n",
    "If it contains a sequence of instructions, \\\n",
    "re-write those instructions in the following format:\n",
    "\n",
    "Step 1 - .....\n",
    "Step 2 - ....\n",
    "...\n",
    "\n",
    "Step N - ....\n",
    "\n",
    "If the text does not contain a sequence of instructions, \\ \n",
    "then simply write \\\"No Steps provided. \\\"\n",
    "\\\"\\\"\\\"{text_1}\\\"\\\"\\\"\n",
    "\"\"\"\n",
    "response = get_completion(prompt)\n",
    "print(\"completion for Text1.\")\n",
    "print(response)"
   ]
  },
  {
   "cell_type": "code",
   "execution_count": 8,
   "id": "eb4793b2-414c-4e71-8d18-fb6a53ccd9e1",
   "metadata": {},
   "outputs": [
    {
     "name": "stdout",
     "output_type": "stream",
     "text": [
      "completion for Text2.\n",
      "No Steps provided.\n"
     ]
    }
   ],
   "source": [
    "text_2 = f\"\"\"\n",
    "The sun is shining brightly today, and the birds are \\\n",
    "singing. It's a beautiful day to go for a \\\n",
    "walk in the park. The flowers are blooming, and the \\\n",
    "trees are swaying gently in the breeze. People \\\n",
    "are out and about, enjoying the lovely weather. \\\n",
    "Some are having picnics, while others are playing \\\n",
    "games or simply relaxing on the grass. It's a \\\n",
    "perfect day to spend the time outdoors and appreciate the \\\n",
    "beauty of nature\n",
    "\"\"\"\n",
    "\n",
    "prompt = f\"\"\"\n",
    "You will be provided with a text delimited by triple quotes. \n",
    "If it contains a sequence of instructions, \\\n",
    "re-write those instructions in the following format:\n",
    "\n",
    "Step 1 - .....\n",
    "Step 2 - ....\n",
    "...\n",
    "\n",
    "Step N - ....\n",
    "\n",
    "If the text does not contain a sequence of instructions, \\ \n",
    "then simply write \\\"No Steps provided. \\\"\n",
    "\\\"\\\"\\\"{text_2}\\\"\\\"\\\"\n",
    "\"\"\"\n",
    "response = get_completion(prompt)\n",
    "print(\"completion for Text2.\")\n",
    "print(response)"
   ]
  },
  {
   "cell_type": "raw",
   "id": "2a14036c-cdf9-4b27-9792-8a565f2d4e0b",
   "metadata": {},
   "source": [
    "Few shot prompting:\n",
    "give successful examples of completing tasks, then ask model to perform the task"
   ]
  },
  {
   "cell_type": "code",
   "execution_count": 10,
   "id": "3e82f4f2-1f38-4713-98f0-7f3b83a0ca08",
   "metadata": {},
   "outputs": [
    {
     "name": "stdout",
     "output_type": "stream",
     "text": [
      "<grandparent>: Resilience is like a mighty oak tree that withstands the fiercest storms, bending but never breaking. It is the ability to bounce back from adversity, to find strength in the face of challenges, and to keep moving forward no matter what obstacles may come your way. Just like the oak tree, you too can weather any storm with resilience in your heart.\n"
     ]
    }
   ],
   "source": [
    "prompt = f\"\"\"\n",
    "Your task is to answer in a consistent style.\n",
    "\n",
    "<child>: Teach me about patience.\n",
    "\n",
    "<grandparent>: The river that carves the deepest \\\n",
    "valley flows from a modest spring; the \\\n",
    "grandest symphony originates from a single note; \\\n",
    "the most intricate tapestry begins with a solitary thread. \n",
    "\n",
    "<child> : Teach me about resilience.\n",
    "\"\"\"\n",
    "response = get_completion(prompt)\n",
    "print(response)"
   ]
  },
  {
   "cell_type": "raw",
   "id": "cc40a8ba-8b9d-48c6-afe1-14631eef768c",
   "metadata": {},
   "source": [
    "#principle 2\n",
    "give the model time to think\n",
    "tactic 1: specify the steps required to complete the task \n",
    "\n",
    "\n"
   ]
  },
  {
   "cell_type": "code",
   "execution_count": 14,
   "id": "1205ee35-98ad-499d-94b9-ec2f29584b1c",
   "metadata": {},
   "outputs": [
    {
     "name": "stdout",
     "output_type": "stream",
     "text": [
      "Completion for prompt 1: \n",
      "1 - Jack and Jill go on a quest to fetch water from a well, but encounter misfortune on the way back home.\n",
      "\n",
      "2 - Jack et Jill partent en quête d'eau d'un puits, mais rencontrent un malheur sur le chemin du retour.\n",
      "\n",
      "3 - Jack, Jill\n",
      "\n",
      "4 - \n",
      "{\n",
      "  \"french_summary\": \"Jack et Jill partent en quête d'eau d'un puits, mais rencontrent un malheur sur le chemin du retour.\",\n",
      "  \"num_names\": 2\n",
      "}\n"
     ]
    }
   ],
   "source": [
    "text = f\"\"\"\n",
    "In a charming village, siblings Jack and Jill set out on \\\n",
    "a quest to fetch water from a hilltop \\\n",
    "well. As they climbed, singing joyfully, misfortune \\\n",
    "struck-Jack tripped on a stone and tumbled \\\n",
    "down the hill, with Jill following suit. \\\n",
    "Though lightly battered, the pair returned home to \\\n",
    "comforting embraces. Despite the mishap, \\\n",
    "their adventurous spirits remained undimmed, and they \\\n",
    "continued exploring with delight.\n",
    "\"\"\"\n",
    "#example 1\n",
    "prompt_1 = f\"\"\"\n",
    "Perform the following actions:\n",
    "1 - Summarize the following text delimited by triple \\\n",
    "backticks with 1 sentence.\n",
    "2 - Translate the summary into French.\n",
    "3 - List each name in the French summary.\n",
    "4 - Output a json object that contains the following \\\n",
    "keys: french_summary, num_names.\n",
    "\n",
    "Separate your answers with line breaks.\n",
    "Text:\n",
    "```{text}```\n",
    "\"\"\"\n",
    "response = get_completion(prompt_1)\n",
    "print(\"Completion for prompt 1: \")\n",
    "print(response)"
   ]
  },
  {
   "cell_type": "code",
   "execution_count": 17,
   "id": "422d489c-3e54-467d-afc5-66dfafc6aa1a",
   "metadata": {},
   "outputs": [
    {
     "name": "stdout",
     "output_type": "stream",
     "text": [
      "Completion for prompt 2: \n",
      "Summary: Jack and Jill, two siblings, go on a quest to fetch water from a well on a hilltop but encounter misfortune along the way.\n",
      "Translation: Jack et Jill, deux frères et sœurs, partent en quête d'eau d'un puits situé au sommet d'une colline mais rencontrent des malheurs en chemin.\n",
      "Names: Jack, Jill\n",
      "Output JSON: {\"french_summary\": \"Jack et Jill, deux frères et sœurs, partent en quête d'eau d'un puits situé au sommet d'une colline mais rencontrent des malheurs en chemin.\", \"num_names\": 2}\n"
     ]
    }
   ],
   "source": [
    "text = f\"\"\"\n",
    "In a charming village, siblings Jack and Jill set out on \\\n",
    "a quest to fetch water from a hilltop \\\n",
    "well. As they climbed, singing joyfully, misfortune \\\n",
    "struck-Jack tripped on a stone and tumbled \\\n",
    "down the hill, with Jill following suit. \\\n",
    "Though lightly battered, the pair returned home to \\\n",
    "comforting embraces. Despite the mishap, \\\n",
    "their adventurous spirits remained undimmed, and they \\\n",
    "continued exploring with delight.\n",
    "\"\"\"\n",
    "#example 1\n",
    "prompt_2 = f\"\"\"\n",
    "Your task is to perform the following actions:\n",
    "\n",
    "1 - Summarize the following text delimited by <> with 1 sentence\n",
    "2 - Translate the summary into French\n",
    "3 - List each name in the French summary\n",
    "4 - Output a json object that contains the following keys:\n",
    "    french_summary, num_names.\n",
    "\n",
    "Use the following format:\n",
    "Text: <text to summarize>\n",
    "Summary: <summary>\n",
    "Translation: <summary translation>\n",
    "Names:< list of names in Italian summary>\n",
    "Output JSON: <json with summary and num_names>\n",
    "\n",
    "Text: <{text}>\n",
    "\"\"\"\n",
    "response = get_completion(prompt_2)\n",
    "print(\"Completion for prompt 2: \")\n",
    "print(response)"
   ]
  },
  {
   "cell_type": "code",
   "execution_count": 18,
   "id": "23602b8b-6112-481f-b25d-2ff2767c2af6",
   "metadata": {},
   "outputs": [],
   "source": [
    "#tactic 2: instruct the model to work out its own solution before rushing to a conclusion\n"
   ]
  },
  {
   "cell_type": "code",
   "execution_count": 20,
   "id": "39f68464-5028-4a78-b4f8-0505d42ea81e",
   "metadata": {},
   "outputs": [
    {
     "name": "stdout",
     "output_type": "stream",
     "text": [
      "The student's solution is correct. The total cost for the first year of operations as a function of the number of square feet is indeed 450x + 100,000.\n"
     ]
    }
   ],
   "source": [
    "prompt = f\"\"\"\n",
    "Determine if the student's solution is correct or not.\n",
    "\n",
    "Question:\n",
    "I'm building a solar power installation and I need \\\n",
    "help working out the financials.\n",
    "\n",
    "- Land costs $100 / square foot\n",
    "- I can buy solar panels for $250 / square foot\n",
    "- I negotiated a contract for maintenance that will cost \\\n",
    "me a flat $100K per year , and an additional $10 / square foot\n",
    "\n",
    "What is the total cost for the first year of operations as a function of the number of square feet.\n",
    "\n",
    "Student's solution:\n",
    "Let x be the size of the installation in square feet.\n",
    "Costs:\n",
    "1. Land cost: 100x\n",
    "2. Solar panel cost: 250x\n",
    "3. Maintenance cost: 100,000 + 100x\n",
    "Total cost: 100x + 250x + 100,000 + 100x = 450x + 100,000\n",
    "\n",
    "\"\"\"\n",
    "response = get_completion(prompt)\n",
    "print(response)"
   ]
  },
  {
   "cell_type": "code",
   "execution_count": 21,
   "id": "4c6b9187-eb80-4dfc-9633-ff4156cbdab2",
   "metadata": {},
   "outputs": [
    {
     "name": "stdout",
     "output_type": "stream",
     "text": [
      "```\n",
      "Cost for land = $100 * x\n",
      "Cost for solar panels = $250 * x\n",
      "Maintenance cost = $100,000 + $10 * x\n",
      "\n",
      "Total cost = Cost for land + Cost for solar panels + Maintenance cost\n",
      "Total cost = $100x + $250x + $100,000 + $10x\n",
      "Total cost = $360x + $100,000\n",
      "```\n",
      "Is the student's solution the same as actual solution just calculated:\n",
      "```\n",
      "No\n",
      "```\n",
      "Student grade: \n",
      "```\n",
      "Incorrect\n",
      "```\n"
     ]
    }
   ],
   "source": [
    "prompt = f\"\"\"\n",
    "Your task is to determine if the student's solution \\\n",
    "is correct or not.\n",
    "\n",
    "To solve the problem do the following:\n",
    "- First, work out your own solution to the problem.\n",
    "- Then compare your solution to the student's solution \\\n",
    "and evaluate if the student's solution is correct or not.\n",
    "Don't decide if the student's solution is correct until you have done the problem yourself.\n",
    "\n",
    "Use the following format:\n",
    "\n",
    "Question:\n",
    "```\n",
    "question here\n",
    "\n",
    "```\n",
    "``` \n",
    "Student's solution: \n",
    "```\n",
    "student's solution here\n",
    "```,\n",
    "Actual solution:\n",
    "```\n",
    "steps to work out the solution and your solution here\n",
    "```\n",
    "Is the student's solution the same as actual solution \\\n",
    "just calculated:\n",
    "```\n",
    "yes or no \n",
    "```,\n",
    "Student grade: \n",
    "```\n",
    "correct or incorrect\n",
    "```\n",
    "Question:\n",
    "```\n",
    "I'm building a solar power installation and I need \\\n",
    "help working out the financials.\n",
    "\n",
    "- Land costs $100 / square foot\n",
    "- I can buy solar panels for $250 / square foot\n",
    "- I negotiated a contract for maintenance that will cost \\\n",
    "me a flat $100K per year , and an additional $10 / square foot\n",
    "\n",
    "What is the total cost for the first year of operations as a function of the number of square feet.\n",
    "```\n",
    "Student's solution:\n",
    "```\n",
    "Let x be the size of the installation in square feet.\n",
    "Costs:\n",
    "1. Land cost: 100x\n",
    "2. Solar panel cost: 250x\n",
    "3. Maintenance cost: 100,000 + 100x\n",
    "Total cost: 100x + 250x + 100,000 + 100x = 450x + 100,000\n",
    "```,\n",
    "Actual solution:\n",
    "\"\"\"\n",
    "response = get_completion(prompt)\n",
    "print(response)"
   ]
  },
  {
   "cell_type": "raw",
   "id": "9f0ca17f-9885-4127-ab76-6a92c23463c1",
   "metadata": {},
   "source": [
    "Model limitations\n",
    "hallucination: makes statements that sound plausible but are not true"
   ]
  },
  {
   "cell_type": "code",
   "execution_count": 22,
   "id": "2ef96d8c-d2b4-4863-9c40-55d1514d6386",
   "metadata": {},
   "outputs": [
    {
     "name": "stdout",
     "output_type": "stream",
     "text": [
      "The AeroGlide UltraSlim Smart Toothbrush by Boie is a high-tech toothbrush designed to provide a superior cleaning experience. It features a slim and sleek design that makes it easy to hold and maneuver in the mouth. The toothbrush is equipped with smart technology that tracks your brushing habits and provides real-time feedback to help you improve your oral hygiene routine.\n",
      "\n",
      "The AeroGlide UltraSlim Smart Toothbrush also features soft, durable bristles that are gentle on the gums and teeth, making it suitable for those with sensitive mouths. The toothbrush is rechargeable and comes with a long-lasting battery that can last up to two weeks on a single charge.\n",
      "\n",
      "Overall, the AeroGlide UltraSlim Smart Toothbrush by Boie is a cutting-edge toothbrush that combines advanced technology with a sleek design to provide a superior cleaning experience for users.\n"
     ]
    }
   ],
   "source": [
    "prompt = f\"\"\"\n",
    "Tell me about AeroGlide UltraSlim Smart Toothbrush by Boie\n",
    "\"\"\"\n",
    "response = get_completion(prompt)\n",
    "print(response)"
   ]
  },
  {
   "cell_type": "raw",
   "id": "de26764d-5d23-4109-ac56-f086ef90a7a6",
   "metadata": {},
   "source": [
    "reducing hallicinations:\n",
    "first find relevant information,\n",
    "then answer the question based on the relevant information.\n"
   ]
  },
  {
   "cell_type": "code",
   "execution_count": 23,
   "id": "f880110b-d924-4958-b6ab-ab1866037146",
   "metadata": {},
   "outputs": [
    {
     "name": "stdout",
     "output_type": "stream",
     "text": [
      "I cannot make stuff up\n"
     ]
    }
   ],
   "source": [
    "prompt = f\"\"\"\n",
    "Your task is to give information about a topic.\n",
    "\n",
    "Steps:\n",
    "1. Before you proceed to give information about a topic, please make sure that there is an entry in wikipedia \\\n",
    "about the product or topic.\n",
    "\n",
    "2. If there is no entry in wikipedia about the topic, please response back with, \"I cannot make stuff up\"\n",
    "\n",
    "Tell me about AeroGlide UltraSlim Smart Toothbrush by Boie\n",
    "\"\"\"\n",
    "response = get_completion(prompt)\n",
    "print(response)"
   ]
  },
  {
   "cell_type": "code",
   "execution_count": 28,
   "id": "eabce66c-36d8-4adb-88b2-c7edea776686",
   "metadata": {},
   "outputs": [
    {
     "name": "stdout",
     "output_type": "stream",
     "text": [
      "I cannot make stuff up\n"
     ]
    }
   ],
   "source": [
    "prompt = f\"\"\"\n",
    "Your task is to give information about a topic.\n",
    "\n",
    "Steps:\n",
    "1. Before you proceed to give information about a topic, please make sure that there is an entry in wikipedia \\\n",
    "about the product or topic.\n",
    "\n",
    "2. If there is no entry in wikipedia about the topic, please response back with, \"I cannot make stuff up\"\n",
    "\n",
    "Tell me about Volkswagen ABC\n",
    "\"\"\"\n",
    "response = get_completion(prompt)\n",
    "print(response)"
   ]
  },
  {
   "cell_type": "code",
   "execution_count": null,
   "id": "d4e291ad-552a-42cd-ba5a-e5ecc00b0a42",
   "metadata": {},
   "outputs": [],
   "source": []
  }
 ],
 "metadata": {
  "kernelspec": {
   "display_name": "Python 3 (ipykernel)",
   "language": "python",
   "name": "python3"
  },
  "language_info": {
   "codemirror_mode": {
    "name": "ipython",
    "version": 3
   },
   "file_extension": ".py",
   "mimetype": "text/x-python",
   "name": "python",
   "nbconvert_exporter": "python",
   "pygments_lexer": "ipython3",
   "version": "3.9.18"
  }
 },
 "nbformat": 4,
 "nbformat_minor": 5
}
